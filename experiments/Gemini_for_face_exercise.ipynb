{
 "cells": [
  {
   "cell_type": "markdown",
   "metadata": {},
   "source": [
    "# Gemini for Face Exercise Proficiency Classification\n",
    "\n",
    "Facial exercises have gained popularity for their potential benefits in improving muscle tone, reducing signs of aging and enhancing overall facial symmetry, being fundamental for speech therapy treatment. However, assessing proficiency in these exercises remains a challenge, as effectiveness depends on precise movements and muscle engagement. This notebook explores the application of Gemini, a cutting-edge AI model, for classifying face exercise proficiency without the need for acquiring labeled datasets or training any custom model."
   ]
  },
  {
   "cell_type": "code",
   "execution_count": 1,
   "metadata": {},
   "outputs": [],
   "source": [
    "import os\n",
    "from google import genai\n",
    "\n",
    "from dotenv import load_dotenv\n",
    "from google.genai import types\n",
    "\n",
    "load_dotenv()\n",
    "GEMINI_API_KEY = os.getenv('GEMINI_API_KEY')"
   ]
  },
  {
   "cell_type": "markdown",
   "metadata": {},
   "source": [
    "Here is a sample of how to call the Gemini API. In this experiment, we will focus on Gemini 2.0 Flash, which is a multimodal model capable of processing both text and images and delivering high-quality results. Google's API provides a free tier with a limited number of requests, making it accessible for experimentation."
   ]
  },
  {
   "cell_type": "code",
   "execution_count": 2,
   "metadata": {},
   "outputs": [
    {
     "name": "stdout",
     "output_type": "stream",
     "text": [
      "AI learns patterns from data to make predictions or decisions.\n",
      "\n"
     ]
    }
   ],
   "source": [
    "client = genai.Client(api_key=GEMINI_API_KEY)\n",
    "\n",
    "response = client.models.generate_content(\n",
    "    model=\"gemini-2.0-flash\", contents=\"Explain how AI works in a few words\"\n",
    ")\n",
    "print(response.text)"
   ]
  },
  {
   "cell_type": "markdown",
   "metadata": {},
   "source": [
    "---"
   ]
  },
  {
   "cell_type": "markdown",
   "metadata": {},
   "source": [
    "Prompts play an important role in guiding the model's responses. The following prompt is designed to elicit a classification of proficiency levels based on the provided image. Each exercise should be associated with a  prompt that includes a breaf description of the exercise and a request for proficiency classification. The prompt is structured to ensure clarity and specificity, allowing the model to understand the task at hand. We believe that the prompt should be clear and concise, providing the model with the necessary context to generate accurate and relevant responses."
   ]
  },
  {
   "cell_type": "code",
   "execution_count": null,
   "metadata": {},
   "outputs": [],
   "source": [
    "# system_prompt = \"\"\"\"\n",
    "# Você é um modelo de inteligência artificial especializado na análise de exercícios motores faciais a partir de vídeos curtos. Seu objetivo é avaliar a corretude da execução dos movimentos com base em critérios biomecânicos, precisão da execução e alinhamento com as instruções propostas para cada exercício.\n",
    "# \"\"\""
   ]
  },
  {
   "cell_type": "markdown",
   "metadata": {},
   "source": [
    "### Prediction with a wrong exercise execution"
   ]
  },
  {
   "cell_type": "code",
   "execution_count": 8,
   "metadata": {},
   "outputs": [
    {
     "name": "stdout",
     "output_type": "stream",
     "text": [
      "Com base no vídeo, parece que o exercício de lateralização da língua não foi realizado. Não há movimentos da língua visíveis no vídeo. Portanto, pode-se dizer que o exercício foi executado incorretamente ou não foi realizado.\n"
     ]
    }
   ],
   "source": [
    "# Only for videos of size <20Mb\n",
    "video_file_name = \"ex1_errado.mp4\"\n",
    "video_bytes = open(video_file_name, 'rb').read()\n",
    "\n",
    "response = client.models.generate_content(\n",
    "    model='models/gemini-2.0-flash',\n",
    "    # config=types.GenerateContentConfig(\n",
    "    #     system_instruction=system_prompt,\n",
    "    # ),\n",
    "    contents=types.Content(\n",
    "        parts=[\n",
    "            types.Part(text='Esse exercício foi performado corretamente, parcialmente ou incorretamente? Descrição: exercício de lateralização de língua. O paciente deve projetar a lingua para fora da bcoa e mover ela para os dois lados',),\n",
    "            types.Part(\n",
    "                inline_data=types.Blob(data=video_bytes, mime_type='video/mp4')\n",
    "            )\n",
    "        ]\n",
    "    )\n",
    ")\n",
    "\n",
    "print(response.text)"
   ]
  },
  {
   "cell_type": "markdown",
   "metadata": {},
   "source": [
    "### Prediction with a correct exercise execution\n",
    "\n",
    "It is also possible to ask it to return only a single class or any sort of structured output. In this case, we will ask it to return the class name."
   ]
  },
  {
   "cell_type": "code",
   "execution_count": 9,
   "metadata": {},
   "outputs": [
    {
     "name": "stdout",
     "output_type": "stream",
     "text": [
      "Acertou\n"
     ]
    }
   ],
   "source": [
    "# Only for videos of size <20Mb\n",
    "video_file_name = \"ex1_certo.mp4\"\n",
    "video_bytes = open(video_file_name, 'rb').read()\n",
    "\n",
    "response = client.models.generate_content(\n",
    "    model='models/gemini-2.0-flash',\n",
    "    # config=types.GenerateContentConfig(\n",
    "    #     system_instruction=system_prompt,\n",
    "    # ),\n",
    "    contents=types.Content(\n",
    "        parts=[\n",
    "            types.Part(text='Esse exercício foi performado corretamente, parcialmente ou incorretamente [Retorne apenas \"Acertou\", \"Parcial\" ou \"Errou\"]? Descrição: exercício de lateralização de língua. O paciente deve projetar a lingua para fora da boca e mover ela obrigatoriamente para os dois lados',),\n",
    "            types.Part(\n",
    "                inline_data=types.Blob(data=video_bytes, mime_type='video/mp4')\n",
    "            )\n",
    "        ]\n",
    "    )\n",
    ")\n",
    "\n",
    "print(response.text)"
   ]
  },
  {
   "cell_type": "markdown",
   "metadata": {},
   "source": [
    "### Prediction with a partial exercise execution"
   ]
  },
  {
   "cell_type": "code",
   "execution_count": 6,
   "metadata": {},
   "outputs": [
    {
     "name": "stdout",
     "output_type": "stream",
     "text": [
      "Acertou\n"
     ]
    }
   ],
   "source": [
    "# Only for videos of size <20Mb\n",
    "video_file_name = \"ex1_parcial.mp4\"\n",
    "video_bytes = open(video_file_name, 'rb').read()\n",
    "\n",
    "response = client.models.generate_content(\n",
    "    model='models/gemini-2.0-flash',\n",
    "    # config=types.GenerateContentConfig(\n",
    "    #     system_instruction=system_prompt,\n",
    "    # ),\n",
    "    contents=types.Content(\n",
    "        parts=[\n",
    "            types.Part(text='Esse exercício foi performado corretamente, parcialmente ou incorretamente [Retorne apenas \"Acertou\", \"Parcial\" ou \"Errou\"]? Descrição: exercício de lateralização de língua. O paciente deve projetar a lingua para fora da boca e mover ela obrigatoriamente para os dois lados',),\n",
    "            types.Part(\n",
    "                inline_data=types.Blob(data=video_bytes, mime_type='video/mp4')\n",
    "            )\n",
    "        ]\n",
    "    )\n",
    ")\n",
    "\n",
    "print(response.text)"
   ]
  },
  {
   "cell_type": "markdown",
   "metadata": {},
   "source": [
    "It is possible to see that the model was not able to classify correctly the last image, which is a partial execution of the exercise."
   ]
  },
  {
   "cell_type": "markdown",
   "metadata": {},
   "source": [
    "### Gemini 1.5 Pro\n",
    "\n",
    "This model is consedered one of the best for vision tasks. It is possible to see that it is able to classify the \"partial\" images correctly, but it is not able to return a formatted output."
   ]
  },
  {
   "cell_type": "code",
   "execution_count": 10,
   "metadata": {},
   "outputs": [
    {
     "name": "stdout",
     "output_type": "stream",
     "text": [
      "Errou. O exercício foi realizado apenas para o lado esquerdo.\n"
     ]
    }
   ],
   "source": [
    "# Only for videos of size <20Mb\n",
    "video_file_name = \"ex1_parcial.mp4\"\n",
    "video_bytes = open(video_file_name, 'rb').read()\n",
    "\n",
    "response = client.models.generate_content(\n",
    "    model='models/gemini-1.5-pro',\n",
    "    # config=types.GenerateContentConfig(\n",
    "    #     system_instruction=system_prompt,\n",
    "    # ),\n",
    "    contents=types.Content(\n",
    "        parts=[\n",
    "            types.Part(text='Esse exercício foi performado corretamente, parcialmente ou incorretamente [Retorne apenas \"Acertou\", \"Parcial\" ou \"Errou\"]? Descrição: exercício de lateralização de língua. O paciente deve projetar a lingua para fora da boca e mover ela obrigatoriamente para os dois lados',),\n",
    "            types.Part(\n",
    "                inline_data=types.Blob(data=video_bytes, mime_type='video/mp4')\n",
    "            )\n",
    "        ]\n",
    "    )\n",
    ")\n",
    "\n",
    "print(response.text)"
   ]
  }
 ],
 "metadata": {
  "kernelspec": {
   "display_name": ".venv",
   "language": "python",
   "name": "python3"
  },
  "language_info": {
   "codemirror_mode": {
    "name": "ipython",
    "version": 3
   },
   "file_extension": ".py",
   "mimetype": "text/x-python",
   "name": "python",
   "nbconvert_exporter": "python",
   "pygments_lexer": "ipython3",
   "version": "3.12.4"
  }
 },
 "nbformat": 4,
 "nbformat_minor": 2
}
